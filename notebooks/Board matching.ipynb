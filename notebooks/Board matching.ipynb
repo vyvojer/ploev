{
 "cells": [
  {
   "cell_type": "code",
   "execution_count": 2,
   "metadata": {
    "collapsed": true
   },
   "outputs": [],
   "source": [
    "import pandas as pd\n",
    "from ploev.calc import Calc\n",
    "from ploev.ppt import OddsOracle\n",
    "from ploev.cards import Board\n",
    "from ploev.easy_range import BoardExplorer"
   ]
  },
  {
   "cell_type": "markdown",
   "metadata": {},
   "source": [
    "#### Сначала присоединяемся к серверу OddsOracle ####"
   ]
  },
  {
   "cell_type": "code",
   "execution_count": 3,
   "metadata": {
    "collapsed": false
   },
   "outputs": [
    {
     "name": "stdout",
     "output_type": "stream",
     "text": [
      "Successfully connected to http://localhost:40000/xmlrpc\n"
     ]
    }
   ],
   "source": [
    "odds_oracle = OddsOracle()\n",
    "calc = Calc(odds_oracle)"
   ]
  },
  {
   "cell_type": "markdown",
   "metadata": {},
   "source": [
    "### Попадание во флоп ###\n",
    "Мы хотим посмотреть, как часто (и как сильно) префлоп диапазоны попадают в определенные флопы. \n",
    "Для этого нам нужно задать:\n",
    "1. Префлоп диапазоны\n",
    "2. Поддиапазоны попадания во флоп (для разных типов флопов они будут разные), например\n",
    "  * Strong\n",
    "  * Good\n",
    "  * Medium\n",
    "  * Weak\n",
    "3. Разные флопы (в этом примере будет только один флоп)"
   ]
  },
  {
   "cell_type": "markdown",
   "metadata": {},
   "source": [
    "#### Задаем начальные условия"
   ]
  },
  {
   "cell_type": "code",
   "execution_count": 4,
   "metadata": {
    "collapsed": false
   },
   "outputs": [],
   "source": [
    "# Префлоп диапазоны (используем сохранненные диапазоны PokerJuice)\n",
    "main_ranges = ['$FI12', '$FI20', '$FI25', '$FI30', '$FI40', '$FI50', \n",
    "               '$3b4i', '$3b6i', '$3b8i', '$3b10i', '$3b12i', '$3b15i',\n",
    "               '$3b4o', '$3b6o', '$3b8o', '$3b10o', '$3b12o', '$3b15o',]\n",
    "\n",
    "# Поддиапазоны попадания во флоп в формате easy_range\n",
    "sub_easy_ranges = [\n",
    "    'MS+, SD16_16+, (T2P+):(SD8_8+), (TP,MP,BP,OP3+):SD12_12+',\n",
    "    'T2P+, SD12_12+, (2P+):(SD8+), (TP,MP,BP,OP3+):SD12+',\n",
    "    'TP,OP4+, SD8_8+',\n",
    "    '*',\n",
    "]\n",
    "\n",
    "# Флоп\n",
    "flop = '9d8s2h'\n",
    "\n",
    "# Переводим поддиапазоны в формат PPT с помощью easy_range.BoardExplorer\n",
    "board_explorer = BoardExplorer(Board.from_str(flop))\n",
    "sub_ranges = [board_explorer.ppt(sub_easy_range) for sub_easy_range in sub_easy_ranges]"
   ]
  },
  {
   "cell_type": "code",
   "execution_count": 5,
   "metadata": {
    "collapsed": true
   },
   "outputs": [],
   "source": [
    "matching = [] # В этом list'e будут храниться проценты попадания каждого диапазона"
   ]
  },
  {
   "cell_type": "markdown",
   "metadata": {},
   "source": [
    "#### Функция, которая обращается к OddsOracle, чтобы получить проценты попадания"
   ]
  },
  {
   "cell_type": "code",
   "execution_count": 6,
   "metadata": {
    "collapsed": false
   },
   "outputs": [],
   "source": [
    "def get_matching(board, main_range, sub_ranges):\n",
    "    return calc.range_distribution(main_range, sub_ranges, board, equity=False)"
   ]
  },
  {
   "cell_type": "markdown",
   "metadata": {},
   "source": [
    "#### В цикле для каждого префлоп диапазона получам проценты попадания"
   ]
  },
  {
   "cell_type": "code",
   "execution_count": 7,
   "metadata": {
    "collapsed": false
   },
   "outputs": [],
   "source": [
    "for main_range in main_ranges:\n",
    "    calc_results = get_matching(flop, main_range, sub_ranges)\n",
    "    fractions = [round(calc_result.fraction * 100) for calc_result in calc_results]\n",
    "    matching.append(fractions)"
   ]
  },
  {
   "cell_type": "markdown",
   "metadata": {},
   "source": [
    "#### Создаем pandas.DataFrame из нашего list'а\n",
    "\n",
    "Это нужно только для удобства. Этот DataFrame аккуратно отображается в блокноте, из него можно быстро сделать разные графики, его можно легко экспортировать в разные форматы (CVS, excel...) и т.д"
   ]
  },
  {
   "cell_type": "code",
   "execution_count": 8,
   "metadata": {
    "collapsed": false
   },
   "outputs": [],
   "source": [
    "columns = ['Strong', 'Good', 'Medium', 'Weak']\n",
    "df = pd.DataFrame.from_records(matching, columns=columns, index=main_ranges)"
   ]
  },
  {
   "cell_type": "markdown",
   "metadata": {},
   "source": [
    "#### Вот результат"
   ]
  },
  {
   "cell_type": "code",
   "execution_count": 9,
   "metadata": {
    "collapsed": false
   },
   "outputs": [
    {
     "data": {
      "text/html": [
       "<div>\n",
       "<table border=\"1\" class=\"dataframe\">\n",
       "  <thead>\n",
       "    <tr style=\"text-align: right;\">\n",
       "      <th></th>\n",
       "      <th>Strong</th>\n",
       "      <th>Good</th>\n",
       "      <th>Medium</th>\n",
       "      <th>Weak</th>\n",
       "    </tr>\n",
       "  </thead>\n",
       "  <tbody>\n",
       "    <tr>\n",
       "      <th>$FI12</th>\n",
       "      <td>4</td>\n",
       "      <td>9</td>\n",
       "      <td>66</td>\n",
       "      <td>21</td>\n",
       "    </tr>\n",
       "    <tr>\n",
       "      <th>$FI20</th>\n",
       "      <td>4</td>\n",
       "      <td>8</td>\n",
       "      <td>56</td>\n",
       "      <td>32</td>\n",
       "    </tr>\n",
       "    <tr>\n",
       "      <th>$FI25</th>\n",
       "      <td>4</td>\n",
       "      <td>8</td>\n",
       "      <td>51</td>\n",
       "      <td>36</td>\n",
       "    </tr>\n",
       "    <tr>\n",
       "      <th>$FI30</th>\n",
       "      <td>4</td>\n",
       "      <td>8</td>\n",
       "      <td>49</td>\n",
       "      <td>39</td>\n",
       "    </tr>\n",
       "    <tr>\n",
       "      <th>$FI40</th>\n",
       "      <td>4</td>\n",
       "      <td>8</td>\n",
       "      <td>44</td>\n",
       "      <td>45</td>\n",
       "    </tr>\n",
       "    <tr>\n",
       "      <th>$FI50</th>\n",
       "      <td>4</td>\n",
       "      <td>8</td>\n",
       "      <td>42</td>\n",
       "      <td>47</td>\n",
       "    </tr>\n",
       "    <tr>\n",
       "      <th>$3b4i</th>\n",
       "      <td>3</td>\n",
       "      <td>7</td>\n",
       "      <td>83</td>\n",
       "      <td>7</td>\n",
       "    </tr>\n",
       "    <tr>\n",
       "      <th>$3b6i</th>\n",
       "      <td>5</td>\n",
       "      <td>17</td>\n",
       "      <td>65</td>\n",
       "      <td>14</td>\n",
       "    </tr>\n",
       "    <tr>\n",
       "      <th>$3b8i</th>\n",
       "      <td>5</td>\n",
       "      <td>15</td>\n",
       "      <td>58</td>\n",
       "      <td>22</td>\n",
       "    </tr>\n",
       "    <tr>\n",
       "      <th>$3b10i</th>\n",
       "      <td>5</td>\n",
       "      <td>13</td>\n",
       "      <td>54</td>\n",
       "      <td>28</td>\n",
       "    </tr>\n",
       "    <tr>\n",
       "      <th>$3b12i</th>\n",
       "      <td>4</td>\n",
       "      <td>12</td>\n",
       "      <td>49</td>\n",
       "      <td>35</td>\n",
       "    </tr>\n",
       "    <tr>\n",
       "      <th>$3b15i</th>\n",
       "      <td>4</td>\n",
       "      <td>11</td>\n",
       "      <td>49</td>\n",
       "      <td>36</td>\n",
       "    </tr>\n",
       "    <tr>\n",
       "      <th>$3b4o</th>\n",
       "      <td>6</td>\n",
       "      <td>14</td>\n",
       "      <td>69</td>\n",
       "      <td>12</td>\n",
       "    </tr>\n",
       "    <tr>\n",
       "      <th>$3b6o</th>\n",
       "      <td>5</td>\n",
       "      <td>18</td>\n",
       "      <td>60</td>\n",
       "      <td>17</td>\n",
       "    </tr>\n",
       "    <tr>\n",
       "      <th>$3b8o</th>\n",
       "      <td>5</td>\n",
       "      <td>16</td>\n",
       "      <td>55</td>\n",
       "      <td>24</td>\n",
       "    </tr>\n",
       "    <tr>\n",
       "      <th>$3b10o</th>\n",
       "      <td>5</td>\n",
       "      <td>15</td>\n",
       "      <td>55</td>\n",
       "      <td>26</td>\n",
       "    </tr>\n",
       "    <tr>\n",
       "      <th>$3b12o</th>\n",
       "      <td>4</td>\n",
       "      <td>14</td>\n",
       "      <td>54</td>\n",
       "      <td>28</td>\n",
       "    </tr>\n",
       "    <tr>\n",
       "      <th>$3b15o</th>\n",
       "      <td>4</td>\n",
       "      <td>12</td>\n",
       "      <td>55</td>\n",
       "      <td>29</td>\n",
       "    </tr>\n",
       "  </tbody>\n",
       "</table>\n",
       "</div>"
      ],
      "text/plain": [
       "        Strong  Good  Medium  Weak\n",
       "$FI12        4     9      66    21\n",
       "$FI20        4     8      56    32\n",
       "$FI25        4     8      51    36\n",
       "$FI30        4     8      49    39\n",
       "$FI40        4     8      44    45\n",
       "$FI50        4     8      42    47\n",
       "$3b4i        3     7      83     7\n",
       "$3b6i        5    17      65    14\n",
       "$3b8i        5    15      58    22\n",
       "$3b10i       5    13      54    28\n",
       "$3b12i       4    12      49    35\n",
       "$3b15i       4    11      49    36\n",
       "$3b4o        6    14      69    12\n",
       "$3b6o        5    18      60    17\n",
       "$3b8o        5    16      55    24\n",
       "$3b10o       5    15      55    26\n",
       "$3b12o       4    14      54    28\n",
       "$3b15o       4    12      55    29"
      ]
     },
     "execution_count": 9,
     "metadata": {},
     "output_type": "execute_result"
    }
   ],
   "source": [
    "df"
   ]
  },
  {
   "cell_type": "markdown",
   "metadata": {},
   "source": [
    "### Несколько графиков"
   ]
  },
  {
   "cell_type": "code",
   "execution_count": 10,
   "metadata": {
    "collapsed": false
   },
   "outputs": [],
   "source": [
    "import matplotlib.pyplot as plt\n",
    "%matplotlib inline"
   ]
  },
  {
   "cell_type": "code",
   "execution_count": 11,
   "metadata": {
    "collapsed": false,
    "scrolled": true
   },
   "outputs": [
    {
     "data": {
      "text/plain": [
       "<matplotlib.axes._subplots.AxesSubplot at 0xa5f2780>"
      ]
     },
     "execution_count": 11,
     "metadata": {},
     "output_type": "execute_result"
    },
    {
     "data": {
      "image/png": "[encoded data removed]",
      "text/plain": [
       "<matplotlib.figure.Figure at 0xa5f7e48>"
      ]
     },
     "metadata": {},
     "output_type": "display_data"
    }
   ],
   "source": [
    "df.plot(kind='bar',stacked='True', figsize=(10, 4))"
   ]
  },
  {
   "cell_type": "code",
   "execution_count": 12,
   "metadata": {
    "collapsed": false
   },
   "outputs": [
    {
     "data": {
      "text/plain": [
       "<matplotlib.axes._subplots.AxesSubplot at 0xa7d3ba8>"
      ]
     },
     "execution_count": 12,
     "metadata": {},
     "output_type": "execute_result"
    },
    {
     "data": {
      "image/png": "[encoded data removed]",
      "text/plain": [
       "<matplotlib.figure.Figure at 0xa742c88>"
      ]
     },
     "metadata": {},
     "output_type": "display_data"
    }
   ],
   "source": [
    "df.plot(kind='bar', figsize=(15, 4))"
   ]
  },
  {
   "cell_type": "code",
   "execution_count": 13,
   "metadata": {
    "collapsed": false
   },
   "outputs": [
    {
     "data": {
      "text/plain": [
       "<matplotlib.axes._subplots.AxesSubplot at 0xaa92f98>"
      ]
     },
     "execution_count": 13,
     "metadata": {},
     "output_type": "execute_result"
    },
    {
     "data": {
      "image/png": "[encoded data removed]",
      "text/plain": [
       "<matplotlib.figure.Figure at 0xaa38d68>"
      ]
     },
     "metadata": {},
     "output_type": "display_data"
    }
   ],
   "source": [
    "df[:6].plot(figsize=(10, 4)) # Только для $FI"
   ]
  },
  {
   "cell_type": "code",
   "execution_count": 14,
   "metadata": {
    "collapsed": false
   },
   "outputs": [
    {
     "data": {
      "text/plain": [
       "<matplotlib.axes._subplots.AxesSubplot at 0xad299e8>"
      ]
     },
     "execution_count": 14,
     "metadata": {},
     "output_type": "execute_result"
    },
    {
     "data": {
      "image/png": "[encoded data removed]",
      "text/plain": [
       "<matplotlib.figure.Figure at 0xad3d780>"
      ]
     },
     "metadata": {},
     "output_type": "display_data"
    }
   ],
   "source": [
    "df[6:12].plot(figsize=(10, 4)) # Только для $3bi"
   ]
  },
  {
   "cell_type": "code",
   "execution_count": null,
   "metadata": {
    "collapsed": true
   },
   "outputs": [],
   "source": [
    ""
   ]
  }
 ],
 "metadata": {
  "kernelspec": {
   "display_name": "Python 3",
   "language": "python",
   "name": "python3"
  },
  "language_info": {
   "codemirror_mode": {
    "name": "ipython",
    "version": 3.0
   },
   "file_extension": ".py",
   "mimetype": "text/x-python",
   "name": "python",
   "nbconvert_exporter": "python",
   "pygments_lexer": "ipython3",
   "version": "3.6.0"
  }
 },
 "nbformat": 4,
 "nbformat_minor": 0
}